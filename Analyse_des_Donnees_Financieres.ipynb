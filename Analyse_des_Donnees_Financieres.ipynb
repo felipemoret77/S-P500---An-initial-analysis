{
 "cells": [
  {
   "cell_type": "markdown",
   "metadata": {},
   "source": [
    "## Importing libraries"
   ]
  },
  {
   "cell_type": "code",
   "execution_count": 18,
   "metadata": {},
   "outputs": [],
   "source": [
    "import numpy as np\n",
    "import pandas as pd\n",
    "import yfinance as yf\n",
    "import requests\n",
    "import bs4 as bs\n",
    "import datetime as dt\n",
    "import matplotlib.pyplot as plt\n",
    "import seaborn as sns\n",
    "\n",
    "##Setting lines and rows printing configuration\n",
    "pd.set_option('display.max_columns', None)\n",
    "pd.set_option('display.max_rows', None)"
   ]
  },
  {
   "cell_type": "markdown",
   "metadata": {},
   "source": [
    "## Getting the stock tickers for all the companies in the S&P500"
   ]
  },
  {
   "cell_type": "code",
   "execution_count": 19,
   "metadata": {},
   "outputs": [],
   "source": [
    "resp = requests.get('http://en.wikipedia.org/wiki/List_of_S%26P_500_companies')\n",
    "soup = bs.BeautifulSoup(resp.text, 'lxml')\n",
    "table = soup.find('table', {'class': 'wikitable sortable'})\n",
    "SP_500_tickers = []\n",
    "for row in table.findAll('tr')[1:]:\n",
    "    ticker = row.findAll('td')[0].text\n",
    "    SP_500_tickers.append(ticker)"
   ]
  },
  {
   "cell_type": "code",
   "execution_count": 20,
   "metadata": {},
   "outputs": [
    {
     "data": {
      "text/plain": [
       "['MMM',\n",
       " 'ABT',\n",
       " 'ABBV',\n",
       " 'ABMD',\n",
       " 'ACN',\n",
       " 'ATVI',\n",
       " 'ADBE',\n",
       " 'AMD',\n",
       " 'AAP',\n",
       " 'AES',\n",
       " 'AFL',\n",
       " 'A',\n",
       " 'APD',\n",
       " 'AKAM',\n",
       " 'ALK',\n",
       " 'ALB',\n",
       " 'ARE',\n",
       " 'ALGN',\n",
       " 'ALLE',\n",
       " 'LNT',\n",
       " 'ALL',\n",
       " 'GOOGL',\n",
       " 'GOOG',\n",
       " 'MO',\n",
       " 'AMZN',\n",
       " 'AMCR',\n",
       " 'AEE',\n",
       " 'AAL',\n",
       " 'AEP',\n",
       " 'AXP',\n",
       " 'AIG',\n",
       " 'AMT',\n",
       " 'AWK',\n",
       " 'AMP',\n",
       " 'ABC',\n",
       " 'AME',\n",
       " 'AMGN',\n",
       " 'APH',\n",
       " 'ADI',\n",
       " 'ANSS',\n",
       " 'ANTM',\n",
       " 'AON',\n",
       " 'AOS',\n",
       " 'APA',\n",
       " 'AAPL',\n",
       " 'AMAT',\n",
       " 'APTV',\n",
       " 'ADM',\n",
       " 'ANET',\n",
       " 'AJG',\n",
       " 'AIZ',\n",
       " 'T',\n",
       " 'ATO',\n",
       " 'ADSK',\n",
       " 'ADP',\n",
       " 'AZO',\n",
       " 'AVB',\n",
       " 'AVY',\n",
       " 'BKR',\n",
       " 'BLL',\n",
       " 'BAC',\n",
       " 'BBWI',\n",
       " 'BAX',\n",
       " 'BDX',\n",
       " 'BRK.B',\n",
       " 'BBY',\n",
       " 'BIO',\n",
       " 'TECH',\n",
       " 'BIIB',\n",
       " 'BLK',\n",
       " 'BK',\n",
       " 'BA',\n",
       " 'BKNG',\n",
       " 'BWA',\n",
       " 'BXP',\n",
       " 'BSX',\n",
       " 'BMY',\n",
       " 'AVGO',\n",
       " 'BR',\n",
       " 'BRO',\n",
       " 'BF.B',\n",
       " 'CHRW',\n",
       " 'CDNS',\n",
       " 'CZR',\n",
       " 'CPB',\n",
       " 'COF',\n",
       " 'CAH',\n",
       " 'KMX',\n",
       " 'CCL',\n",
       " 'CARR',\n",
       " 'CTLT',\n",
       " 'CAT',\n",
       " 'CBOE',\n",
       " 'CBRE',\n",
       " 'CDW',\n",
       " 'CE',\n",
       " 'CNC',\n",
       " 'CNP',\n",
       " 'CDAY',\n",
       " 'CERN',\n",
       " 'CF',\n",
       " 'CRL',\n",
       " 'SCHW',\n",
       " 'CHTR',\n",
       " 'CVX',\n",
       " 'CMG',\n",
       " 'CB',\n",
       " 'CHD',\n",
       " 'CI',\n",
       " 'CINF',\n",
       " 'CTAS',\n",
       " 'CSCO',\n",
       " 'C',\n",
       " 'CFG',\n",
       " 'CTXS',\n",
       " 'CLX',\n",
       " 'CME',\n",
       " 'CMS',\n",
       " 'KO',\n",
       " 'CTSH',\n",
       " 'CL',\n",
       " 'CMCSA',\n",
       " 'CMA',\n",
       " 'CAG',\n",
       " 'COP',\n",
       " 'ED',\n",
       " 'STZ',\n",
       " 'COO',\n",
       " 'CPRT',\n",
       " 'GLW',\n",
       " 'CTVA',\n",
       " 'COST',\n",
       " 'CTRA',\n",
       " 'CCI',\n",
       " 'CSX',\n",
       " 'CMI',\n",
       " 'CVS',\n",
       " 'DHI',\n",
       " 'DHR',\n",
       " 'DRI',\n",
       " 'DVA',\n",
       " 'DE',\n",
       " 'DAL',\n",
       " 'XRAY',\n",
       " 'DVN',\n",
       " 'DXCM',\n",
       " 'FANG',\n",
       " 'DLR',\n",
       " 'DFS',\n",
       " 'DISCA',\n",
       " 'DISCK',\n",
       " 'DISH',\n",
       " 'DG',\n",
       " 'DLTR',\n",
       " 'D',\n",
       " 'DPZ',\n",
       " 'DOV',\n",
       " 'DOW',\n",
       " 'DTE',\n",
       " 'DUK',\n",
       " 'DRE',\n",
       " 'DD',\n",
       " 'DXC',\n",
       " 'EMN',\n",
       " 'ETN',\n",
       " 'EBAY',\n",
       " 'ECL',\n",
       " 'EIX',\n",
       " 'EW',\n",
       " 'EA',\n",
       " 'EMR',\n",
       " 'ENPH',\n",
       " 'ETR',\n",
       " 'EOG',\n",
       " 'EPAM',\n",
       " 'EFX',\n",
       " 'EQIX',\n",
       " 'EQR',\n",
       " 'ESS',\n",
       " 'EL',\n",
       " 'ETSY',\n",
       " 'EVRG',\n",
       " 'ES',\n",
       " 'RE',\n",
       " 'EXC',\n",
       " 'EXPE',\n",
       " 'EXPD',\n",
       " 'EXR',\n",
       " 'XOM',\n",
       " 'FFIV',\n",
       " 'FAST',\n",
       " 'FRT',\n",
       " 'FDX',\n",
       " 'FIS',\n",
       " 'FITB',\n",
       " 'FE',\n",
       " 'FRC',\n",
       " 'FISV',\n",
       " 'FLT',\n",
       " 'FMC',\n",
       " 'F',\n",
       " 'FTNT',\n",
       " 'FTV',\n",
       " 'FBHS',\n",
       " 'FOXA',\n",
       " 'FOX',\n",
       " 'BEN',\n",
       " 'FCX',\n",
       " 'GPS',\n",
       " 'GRMN',\n",
       " 'IT',\n",
       " 'GNRC',\n",
       " 'GD',\n",
       " 'GE',\n",
       " 'GIS',\n",
       " 'GM',\n",
       " 'GPC',\n",
       " 'GILD',\n",
       " 'GL',\n",
       " 'GPN',\n",
       " 'GS',\n",
       " 'GWW',\n",
       " 'HAL',\n",
       " 'HBI',\n",
       " 'HIG',\n",
       " 'HAS',\n",
       " 'HCA',\n",
       " 'PEAK',\n",
       " 'HSIC',\n",
       " 'HSY',\n",
       " 'HES',\n",
       " 'HPE',\n",
       " 'HLT',\n",
       " 'HOLX',\n",
       " 'HD',\n",
       " 'HON',\n",
       " 'HRL',\n",
       " 'HST',\n",
       " 'HWM',\n",
       " 'HPQ',\n",
       " 'HUM',\n",
       " 'HBAN',\n",
       " 'HII',\n",
       " 'IEX',\n",
       " 'IDXX',\n",
       " 'INFO',\n",
       " 'ITW',\n",
       " 'ILMN',\n",
       " 'INCY',\n",
       " 'IR',\n",
       " 'INTC',\n",
       " 'ICE',\n",
       " 'IBM',\n",
       " 'IP',\n",
       " 'IPG',\n",
       " 'IFF',\n",
       " 'INTU',\n",
       " 'ISRG',\n",
       " 'IVZ',\n",
       " 'IPGP',\n",
       " 'IQV',\n",
       " 'IRM',\n",
       " 'JKHY',\n",
       " 'J',\n",
       " 'JBHT',\n",
       " 'SJM',\n",
       " 'JNJ',\n",
       " 'JCI',\n",
       " 'JPM',\n",
       " 'JNPR',\n",
       " 'K',\n",
       " 'KEY',\n",
       " 'KEYS',\n",
       " 'KMB',\n",
       " 'KIM',\n",
       " 'KMI',\n",
       " 'KLAC',\n",
       " 'KHC',\n",
       " 'KR',\n",
       " 'LHX',\n",
       " 'LH',\n",
       " 'LRCX',\n",
       " 'LW',\n",
       " 'LVS',\n",
       " 'LEG',\n",
       " 'LDOS',\n",
       " 'LEN',\n",
       " 'LLY',\n",
       " 'LNC',\n",
       " 'LIN',\n",
       " 'LYV',\n",
       " 'LKQ',\n",
       " 'LMT',\n",
       " 'L',\n",
       " 'LOW',\n",
       " 'LUMN',\n",
       " 'LYB',\n",
       " 'MTB',\n",
       " 'MRO',\n",
       " 'MPC',\n",
       " 'MKTX',\n",
       " 'MAR',\n",
       " 'MMC',\n",
       " 'MLM',\n",
       " 'MAS',\n",
       " 'MA',\n",
       " 'MTCH',\n",
       " 'MKC',\n",
       " 'MCD',\n",
       " 'MCK',\n",
       " 'MDT',\n",
       " 'MRK',\n",
       " 'FB',\n",
       " 'MET',\n",
       " 'MTD',\n",
       " 'MGM',\n",
       " 'MCHP',\n",
       " 'MU',\n",
       " 'MSFT',\n",
       " 'MAA',\n",
       " 'MRNA',\n",
       " 'MHK',\n",
       " 'TAP',\n",
       " 'MDLZ',\n",
       " 'MPWR',\n",
       " 'MNST',\n",
       " 'MCO',\n",
       " 'MS',\n",
       " 'MOS',\n",
       " 'MSI',\n",
       " 'MSCI',\n",
       " 'NDAQ',\n",
       " 'NTAP',\n",
       " 'NFLX',\n",
       " 'NWL',\n",
       " 'NEM',\n",
       " 'NWSA',\n",
       " 'NWS',\n",
       " 'NEE',\n",
       " 'NLSN',\n",
       " 'NKE',\n",
       " 'NI',\n",
       " 'NSC',\n",
       " 'NTRS',\n",
       " 'NOC',\n",
       " 'NLOK',\n",
       " 'NCLH',\n",
       " 'NRG',\n",
       " 'NUE',\n",
       " 'NVDA',\n",
       " 'NVR',\n",
       " 'NXPI',\n",
       " 'ORLY',\n",
       " 'OXY',\n",
       " 'ODFL',\n",
       " 'OMC',\n",
       " 'OKE',\n",
       " 'ORCL',\n",
       " 'OGN',\n",
       " 'OTIS',\n",
       " 'PCAR',\n",
       " 'PKG',\n",
       " 'PH',\n",
       " 'PAYX',\n",
       " 'PAYC',\n",
       " 'PYPL',\n",
       " 'PENN',\n",
       " 'PNR',\n",
       " 'PBCT',\n",
       " 'PEP',\n",
       " 'PKI',\n",
       " 'PFE',\n",
       " 'PM',\n",
       " 'PSX',\n",
       " 'PNW',\n",
       " 'PXD',\n",
       " 'PNC',\n",
       " 'POOL',\n",
       " 'PPG',\n",
       " 'PPL',\n",
       " 'PFG',\n",
       " 'PG',\n",
       " 'PGR',\n",
       " 'PLD',\n",
       " 'PRU',\n",
       " 'PTC',\n",
       " 'PEG',\n",
       " 'PSA',\n",
       " 'PHM',\n",
       " 'PVH',\n",
       " 'QRVO',\n",
       " 'PWR',\n",
       " 'QCOM',\n",
       " 'DGX',\n",
       " 'RL',\n",
       " 'RJF',\n",
       " 'RTX',\n",
       " 'O',\n",
       " 'REG',\n",
       " 'REGN',\n",
       " 'RF',\n",
       " 'RSG',\n",
       " 'RMD',\n",
       " 'RHI',\n",
       " 'ROK',\n",
       " 'ROL',\n",
       " 'ROP',\n",
       " 'ROST',\n",
       " 'RCL',\n",
       " 'SPGI',\n",
       " 'CRM',\n",
       " 'SBAC',\n",
       " 'SLB',\n",
       " 'STX',\n",
       " 'SEE',\n",
       " 'SRE',\n",
       " 'NOW',\n",
       " 'SHW',\n",
       " 'SPG',\n",
       " 'SWKS',\n",
       " 'SNA',\n",
       " 'SO',\n",
       " 'LUV',\n",
       " 'SWK',\n",
       " 'SBUX',\n",
       " 'STT',\n",
       " 'STE',\n",
       " 'SYK',\n",
       " 'SIVB',\n",
       " 'SYF',\n",
       " 'SNPS',\n",
       " 'SYY',\n",
       " 'TMUS',\n",
       " 'TROW',\n",
       " 'TTWO',\n",
       " 'TPR',\n",
       " 'TGT',\n",
       " 'TEL',\n",
       " 'TDY',\n",
       " 'TFX',\n",
       " 'TER',\n",
       " 'TSLA',\n",
       " 'TXN',\n",
       " 'TXT',\n",
       " 'TMO',\n",
       " 'TJX',\n",
       " 'TSCO',\n",
       " 'TT',\n",
       " 'TDG',\n",
       " 'TRV',\n",
       " 'TRMB',\n",
       " 'TFC',\n",
       " 'TWTR',\n",
       " 'TYL',\n",
       " 'TSN',\n",
       " 'UDR',\n",
       " 'ULTA',\n",
       " 'USB',\n",
       " 'UAA',\n",
       " 'UA',\n",
       " 'UNP',\n",
       " 'UAL',\n",
       " 'UNH',\n",
       " 'UPS',\n",
       " 'URI',\n",
       " 'UHS',\n",
       " 'VLO',\n",
       " 'VTR',\n",
       " 'VRSN',\n",
       " 'VRSK',\n",
       " 'VZ',\n",
       " 'VRTX',\n",
       " 'VFC',\n",
       " 'VIAC',\n",
       " 'VTRS',\n",
       " 'V',\n",
       " 'VNO',\n",
       " 'VMC',\n",
       " 'WRB',\n",
       " 'WAB',\n",
       " 'WMT',\n",
       " 'WBA',\n",
       " 'DIS',\n",
       " 'WM',\n",
       " 'WAT',\n",
       " 'WEC',\n",
       " 'WFC',\n",
       " 'WELL',\n",
       " 'WST',\n",
       " 'WDC',\n",
       " 'WU',\n",
       " 'WRK',\n",
       " 'WY',\n",
       " 'WHR',\n",
       " 'WMB',\n",
       " 'WLTW',\n",
       " 'WYNN',\n",
       " 'XEL',\n",
       " 'XLNX',\n",
       " 'XYL',\n",
       " 'YUM',\n",
       " 'ZBRA',\n",
       " 'ZBH',\n",
       " 'ZION',\n",
       " 'ZTS']"
      ]
     },
     "execution_count": 20,
     "metadata": {},
     "output_type": "execute_result"
    }
   ],
   "source": [
    "SP_500_tickers = [s.replace('\\n', '') for s in SP_500_tickers]\n",
    "SP_500_tickers"
   ]
  },
  {
   "cell_type": "markdown",
   "metadata": {},
   "source": [
    "**Number of companies listed (inlcluding some delisted ones in the S&P500 Index)**"
   ]
  },
  {
   "cell_type": "code",
   "execution_count": 21,
   "metadata": {},
   "outputs": [
    {
     "data": {
      "text/plain": [
       "505"
      ]
     },
     "execution_count": 21,
     "metadata": {},
     "output_type": "execute_result"
    }
   ],
   "source": [
    "len(SP_500_tickers)"
   ]
  },
  {
   "cell_type": "markdown",
   "metadata": {},
   "source": [
    "## Getting historical data for the companies in a defined period of time"
   ]
  },
  {
   "cell_type": "markdown",
   "metadata": {},
   "source": [
    "**Defining period of time for the analysis**"
   ]
  },
  {
   "cell_type": "code",
   "execution_count": 22,
   "metadata": {},
   "outputs": [],
   "source": [
    "start_time = dt.datetime(2020,1,1)\n",
    "end_time = dt.datetime(2020,12,31)"
   ]
  },
  {
   "cell_type": "markdown",
   "metadata": {},
   "source": [
    "**Downloading data**"
   ]
  },
  {
   "cell_type": "code",
   "execution_count": 23,
   "metadata": {},
   "outputs": [
    {
     "name": "stdout",
     "output_type": "stream",
     "text": [
      "[*********************100%***********************]  505 of 505 completed\n",
      "\n",
      "3 Failed downloads:\n",
      "- BRK.B: No data found, symbol may be delisted\n",
      "- BF.B: No data found for this date range, symbol may be delisted\n",
      "- OGN: Data doesn't exist for startDate = 1577833200, endDate = 1609369200\n"
     ]
    }
   ],
   "source": [
    "data = yf.download(SP_500_tickers, start = start_time, end = end_time)"
   ]
  },
  {
   "cell_type": "markdown",
   "metadata": {},
   "source": [
    "**Checking for the shape (number of companies & date records) & features of the data**"
   ]
  },
  {
   "cell_type": "code",
   "execution_count": 24,
   "metadata": {},
   "outputs": [
    {
     "data": {
      "text/plain": [
       "(253, 3030)"
      ]
     },
     "execution_count": 24,
     "metadata": {},
     "output_type": "execute_result"
    }
   ],
   "source": [
    "data.shape"
   ]
  },
  {
   "cell_type": "markdown",
   "metadata": {},
   "source": [
    "**Number of date records -- 253 days are registred (only business days)**"
   ]
  },
  {
   "cell_type": "code",
   "execution_count": 25,
   "metadata": {},
   "outputs": [
    {
     "data": {
      "text/plain": [
       "DatetimeIndex(['2019-12-31', '2020-01-02', '2020-01-03', '2020-01-06',\n",
       "               '2020-01-07', '2020-01-08', '2020-01-09', '2020-01-10',\n",
       "               '2020-01-13', '2020-01-14',\n",
       "               ...\n",
       "               '2020-12-16', '2020-12-17', '2020-12-18', '2020-12-21',\n",
       "               '2020-12-22', '2020-12-23', '2020-12-24', '2020-12-28',\n",
       "               '2020-12-29', '2020-12-30'],\n",
       "              dtype='datetime64[ns]', name='Date', length=253, freq=None)"
      ]
     },
     "execution_count": 25,
     "metadata": {},
     "output_type": "execute_result"
    }
   ],
   "source": [
    "data.index"
   ]
  },
  {
   "cell_type": "markdown",
   "metadata": {},
   "source": [
    "**Original features of the data (originally, we have 6 dimensions for each stock)**"
   ]
  },
  {
   "cell_type": "code",
   "execution_count": 26,
   "metadata": {},
   "outputs": [
    {
     "data": {
      "text/plain": [
       "['Adj Close', 'Close', 'High', 'Low', 'Open', 'Volume']"
      ]
     },
     "execution_count": 26,
     "metadata": {},
     "output_type": "execute_result"
    }
   ],
   "source": [
    "list(data.columns.levels[0])"
   ]
  },
  {
   "cell_type": "markdown",
   "metadata": {},
   "source": [
    "**Dropping stocks with missing data**"
   ]
  },
  {
   "cell_type": "code",
   "execution_count": 27,
   "metadata": {},
   "outputs": [],
   "source": [
    "data.dropna(inplace = True, axis = 1)"
   ]
  },
  {
   "cell_type": "code",
   "execution_count": 28,
   "metadata": {},
   "outputs": [
    {
     "data": {
      "text/plain": [
       "(253, 3000)"
      ]
     },
     "execution_count": 28,
     "metadata": {},
     "output_type": "execute_result"
    }
   ],
   "source": [
    "data.shape"
   ]
  },
  {
   "cell_type": "markdown",
   "metadata": {},
   "source": [
    "**Getting stocks with all features filled**"
   ]
  },
  {
   "cell_type": "code",
   "execution_count": 29,
   "metadata": {},
   "outputs": [],
   "source": [
    "valid_stocks = []\n",
    "number_original_features = len(data.columns.levels[0])\n",
    "lists_stocks_per_feature = []\n",
    "\n",
    "for feature in data.columns.levels[0]:\n",
    "    lists_stocks_per_feature.append(data[feature].columns)\n",
    "\n",
    "## Getting the intersection of the lists of available stocks per feature\n",
    "valid_stocks = list(set.intersection(*[set(x) for x in lists_stocks_per_feature]))"
   ]
  },
  {
   "cell_type": "code",
   "execution_count": 30,
   "metadata": {},
   "outputs": [
    {
     "data": {
      "text/plain": [
       "500"
      ]
     },
     "execution_count": 30,
     "metadata": {},
     "output_type": "execute_result"
    }
   ],
   "source": [
    "len(valid_stocks)"
   ]
  },
  {
   "cell_type": "markdown",
   "metadata": {},
   "source": [
    "**Generating a new feature - DAILY RETURN**"
   ]
  },
  {
   "cell_type": "code",
   "execution_count": 31,
   "metadata": {},
   "outputs": [],
   "source": [
    "def return_daily_return_as_new_feature(data, valid_stocks):\n",
    "    for stock in list(valid_stocks):\n",
    "        data[(\"Daily Return\", stock)] = data[(\"Adj Close\",stock)].pct_change()"
   ]
  },
  {
   "cell_type": "code",
   "execution_count": 32,
   "metadata": {},
   "outputs": [],
   "source": [
    "return_daily_return_as_new_feature(data, valid_stocks)"
   ]
  },
  {
   "cell_type": "markdown",
   "metadata": {},
   "source": [
    "**Daily return is a new feature of the data - we have now 7 dimensions**"
   ]
  },
  {
   "cell_type": "code",
   "execution_count": 33,
   "metadata": {},
   "outputs": [
    {
     "data": {
      "text/plain": [
       "['Adj Close', 'Close', 'High', 'Low', 'Open', 'Volume', 'Daily Return']"
      ]
     },
     "execution_count": 33,
     "metadata": {},
     "output_type": "execute_result"
    }
   ],
   "source": [
    "list(data.columns.levels[0])"
   ]
  },
  {
   "cell_type": "code",
   "execution_count": 34,
   "metadata": {
    "scrolled": false
   },
   "outputs": [
    {
     "data": {
      "text/plain": [
       "True"
      ]
     },
     "execution_count": 34,
     "metadata": {},
     "output_type": "execute_result"
    }
   ],
   "source": [
    "list(data[\"Daily Return\"].columns) == valid_stocks"
   ]
  },
  {
   "cell_type": "markdown",
   "metadata": {},
   "source": [
    "**Let's now generate the dimensions that we will use with the PCA reduction method: monthly mean volatility, monthly mean return, monthly mean drawdown, monthly mean traded volume**"
   ]
  },
  {
   "cell_type": "markdown",
   "metadata": {},
   "source": [
    "<span style=\"color:red\">**Generating a dataframe with monthly returns for all stocks**</span>"
   ]
  },
  {
   "cell_type": "code",
   "execution_count": 35,
   "metadata": {},
   "outputs": [],
   "source": [
    "def return_monthly_accrued_return_for_each_stock(data, valid_stocks):\n",
    "    \n",
    "    monthly_returns = pd.DataFrame(data = [], index = range(1,13), columns = valid_stocks)\n",
    "    daily_returns = data[\"Daily Return\"].iloc[1: , :]\n",
    "    \n",
    "    for stock in valid_stocks:\n",
    "        for month in range(1,13):\n",
    "            current_stock_monthly_return = 1.0\n",
    "            current_data = daily_returns[stock][daily_returns.index.month == month]\n",
    "            number_of_rows = len(current_data)\n",
    "            for i in range(0, number_of_rows):\n",
    "                current_stock_monthly_return = current_stock_monthly_return*(1 + current_data.iloc[i])    \n",
    "            monthly_returns.loc[month][stock] = (current_stock_monthly_return - 1)\n",
    "            \n",
    "    return monthly_returns   "
   ]
  },
  {
   "cell_type": "code",
   "execution_count": 36,
   "metadata": {},
   "outputs": [],
   "source": [
    "monthly_returns = return_monthly_accrued_return_for_each_stock(data, valid_stocks)"
   ]
  },
  {
   "cell_type": "markdown",
   "metadata": {},
   "source": [
    "<span style=\"color:red\">**Expected to have a dataframe with 12 rows**</span>"
   ]
  },
  {
   "cell_type": "code",
   "execution_count": 37,
   "metadata": {},
   "outputs": [
    {
     "data": {
      "text/plain": [
       "(12, 500)"
      ]
     },
     "execution_count": 37,
     "metadata": {},
     "output_type": "execute_result"
    }
   ],
   "source": [
    "monthly_returns.shape"
   ]
  },
  {
   "cell_type": "markdown",
   "metadata": {},
   "source": [
    "**Generating Monthly Mean Return for each stock**"
   ]
  },
  {
   "cell_type": "code",
   "execution_count": 38,
   "metadata": {},
   "outputs": [],
   "source": [
    "monthly_mean_returns = np.mean(monthly_returns)"
   ]
  },
  {
   "cell_type": "code",
   "execution_count": 39,
   "metadata": {},
   "outputs": [
    {
     "data": {
      "text/plain": [
       "Text(0.5, 1.0, 'S&P500 - Mean Monthly Return')"
      ]
     },
     "execution_count": 39,
     "metadata": {},
     "output_type": "execute_result"
    },
    {
     "data": {
      "image/png": "[encoded data removed]",
      "text/plain": [
       "<Figure size 432x288 with 1 Axes>"
      ]
     },
     "metadata": {
      "needs_background": "light"
     },
     "output_type": "display_data"
    }
   ],
   "source": [
    "plt.hist(monthly_mean_returns, bins = 50, density = True, alpha = 0.8)\n",
    "sns.kdeplot(monthly_mean_returns, label = \"kde density\", linewidth = 5)\n",
    "plt.xlabel(\"Mean Monthy Return\")\n",
    "plt.ylabel(\"Density\")\n",
    "plt.title(\"S&P500 - Mean Monthly Return\")"
   ]
  },
  {
   "cell_type": "markdown",
   "metadata": {},
   "source": [
    "<span style=\"color:blue\">**Generating a dataframe with monthly traded volume for all stocks**</span>"
   ]
  },
  {
   "cell_type": "code",
   "execution_count": 40,
   "metadata": {},
   "outputs": [],
   "source": [
    "def return_monthly_total_traded_volume_for_each_stock(data, valid_stocks):\n",
    "    \n",
    "    daily_volumes = data[\"Volume\"].dropna(axis = 1)\n",
    "    monthly_traded_volumes = pd.DataFrame(data = [], index = range(1,13), columns = valid_stocks)\n",
    "    \n",
    "    for stock in valid_stocks:\n",
    "        for month in range(1,13):\n",
    "            current_stock_monthly_traded_volume = 0.0\n",
    "            current_data = daily_volumes[stock][daily_volumes.index.month == month]\n",
    "            number_of_rows = len(current_data)\n",
    "            for i in range(0, number_of_rows):\n",
    "                current_stock_monthly_traded_volume = current_stock_monthly_traded_volume + current_data.iloc[i]    \n",
    "            monthly_traded_volumes.loc[month][stock] = current_stock_monthly_traded_volume\n",
    "            \n",
    "    return monthly_traded_volumes  "
   ]
  },
  {
   "cell_type": "code",
   "execution_count": 41,
   "metadata": {},
   "outputs": [],
   "source": [
    "monthly_traded_volumes = return_monthly_total_traded_volume_for_each_stock(data, valid_stocks)"
   ]
  },
  {
   "cell_type": "markdown",
   "metadata": {},
   "source": [
    "<span style=\"color:red\">**Expected to have a dataframe with 12 rows**</span>"
   ]
  },
  {
   "cell_type": "code",
   "execution_count": 42,
   "metadata": {},
   "outputs": [
    {
     "data": {
      "text/plain": [
       "(12, 500)"
      ]
     },
     "execution_count": 42,
     "metadata": {},
     "output_type": "execute_result"
    }
   ],
   "source": [
    "monthly_traded_volumes.shape"
   ]
  },
  {
   "cell_type": "markdown",
   "metadata": {},
   "source": [
    "**Generating Monthly Mean Traded Volume for each stock**"
   ]
  },
  {
   "cell_type": "code",
   "execution_count": 43,
   "metadata": {},
   "outputs": [],
   "source": [
    "monthly_mean_traded_volumes = np.mean(monthly_traded_volumes)"
   ]
  },
  {
   "cell_type": "code",
   "execution_count": 44,
   "metadata": {},
   "outputs": [
    {
     "data": {
      "text/plain": [
       "Text(0.5, 1.0, 'S&P500 - Mean Monthly Traded Volume')"
      ]
     },
     "execution_count": 44,
     "metadata": {},
     "output_type": "execute_result"
    },
    {
     "data": {
      "image/png": "[encoded data removed]",
      "text/plain": [
       "<Figure size 432x288 with 1 Axes>"
      ]
     },
     "metadata": {
      "needs_background": "light"
     },
     "output_type": "display_data"
    }
   ],
   "source": [
    "plt.hist(monthly_mean_traded_volumes, bins = 50, alpha = 0.8)\n",
    "plt.xlabel(\"Mean Monthy Traded Volume\")\n",
    "plt.ylabel(\"Number of Companies\")\n",
    "plt.title(\"S&P500 - Mean Monthly Traded Volume\")"
   ]
  },
  {
   "cell_type": "markdown",
   "metadata": {},
   "source": [
    "<span style=\"color:blue\">**Generating a dataframe with monthly volatility for each stock**</span>"
   ]
  },
  {
   "cell_type": "code",
   "execution_count": 45,
   "metadata": {},
   "outputs": [],
   "source": [
    "def return_monthly_volatility_for_each_stock(data, valid_stocks):\n",
    "    \n",
    "    daily_returns = data[\"Daily Return\"].iloc[1: , :]\n",
    "    monthly_volatiities = pd.DataFrame(data = [], index = range(1,13), columns = valid_stocks)\n",
    "    \n",
    "    for stock in valid_stocks:\n",
    "        for month in range(1,13):\n",
    "            current_data = daily_returns[stock][daily_returns.index.month == month]   \n",
    "            monthly_volatiities.loc[month][stock] = current_data.std()\n",
    "            \n",
    "    return monthly_volatiities"
   ]
  },
  {
   "cell_type": "code",
   "execution_count": 46,
   "metadata": {},
   "outputs": [],
   "source": [
    "monthly_volatiities = return_monthly_volatility_for_each_stock(data, valid_stocks)"
   ]
  },
  {
   "cell_type": "markdown",
   "metadata": {},
   "source": [
    "<span style=\"color:red\">**Expected to have a dataframe with 12 rows**</span>"
   ]
  },
  {
   "cell_type": "code",
   "execution_count": 47,
   "metadata": {},
   "outputs": [
    {
     "data": {
      "text/plain": [
       "(12, 500)"
      ]
     },
     "execution_count": 47,
     "metadata": {},
     "output_type": "execute_result"
    }
   ],
   "source": [
    "monthly_volatiities.shape"
   ]
  },
  {
   "cell_type": "markdown",
   "metadata": {},
   "source": [
    "**Generating Monthly Mean Volatility for each stock**"
   ]
  },
  {
   "cell_type": "code",
   "execution_count": 48,
   "metadata": {},
   "outputs": [],
   "source": [
    "monthly_mean_volatility = np.mean(monthly_volatiities)"
   ]
  },
  {
   "cell_type": "code",
   "execution_count": 49,
   "metadata": {},
   "outputs": [
    {
     "data": {
      "text/plain": [
       "Text(0.5, 1.0, 'S&P500 - Mean Monthly Volatility')"
      ]
     },
     "execution_count": 49,
     "metadata": {},
     "output_type": "execute_result"
    },
    {
     "data": {
      "image/png": "[encoded data removed]",
      "text/plain": [
       "<Figure size 432x288 with 1 Axes>"
      ]
     },
     "metadata": {
      "needs_background": "light"
     },
     "output_type": "display_data"
    }
   ],
   "source": [
    "plt.hist(monthly_mean_volatility, bins = 50, alpha = 0.8)\n",
    "sns.kdeplot(monthly_mean_volatility, label = \"kde density\", linewidth = 5)\n",
    "plt.xlabel(\"Mean Monthy Volatility\")\n",
    "plt.ylabel(\"Density\")\n",
    "plt.title(\"S&P500 - Mean Monthly Volatility\")"
   ]
  },
  {
   "cell_type": "markdown",
   "metadata": {},
   "source": [
    "<span style=\"color:blue\">**Generating a dataframe with maximum monthly drawdown for each stock**</span>"
   ]
  },
  {
   "cell_type": "code",
   "execution_count": 50,
   "metadata": {},
   "outputs": [],
   "source": [
    "def return_monthly_maximum_drawdown_for_each_stock(data, valid_stocks):\n",
    "    \n",
    "    adjusted_close_prices = data[\"Adj Close\"]\n",
    "    monthly_drawdowns = pd.DataFrame(data = [], index = range(1,13), columns = valid_stocks)\n",
    "    \n",
    "    for stock in valid_stocks:\n",
    "        for month in range(1,13):\n",
    "            current_data = adjusted_close_prices[stock][adjusted_close_prices.index.month == month]\n",
    "            current_data_max = current_data.max()\n",
    "            current_data_min = current_data.min()\n",
    "            monthly_drawdowns.loc[month][stock] = current_data_max - current_data_min\n",
    "            \n",
    "    return monthly_drawdowns"
   ]
  },
  {
   "cell_type": "code",
   "execution_count": 51,
   "metadata": {},
   "outputs": [],
   "source": [
    "monthly_drawdowns = return_monthly_maximum_drawdown_for_each_stock(data, valid_stocks)"
   ]
  },
  {
   "cell_type": "markdown",
   "metadata": {},
   "source": [
    "<span style=\"color:red\">**Expected to have a dataframe with 12 rows**</span>"
   ]
  },
  {
   "cell_type": "code",
   "execution_count": 52,
   "metadata": {},
   "outputs": [
    {
     "data": {
      "text/plain": [
       "(12, 500)"
      ]
     },
     "execution_count": 52,
     "metadata": {},
     "output_type": "execute_result"
    }
   ],
   "source": [
    "monthly_drawdowns.shape"
   ]
  },
  {
   "cell_type": "markdown",
   "metadata": {},
   "source": [
    "**Generating Monthly Mean Maximum Drawdown for each stock**"
   ]
  },
  {
   "cell_type": "code",
   "execution_count": 53,
   "metadata": {},
   "outputs": [],
   "source": [
    "monthly_mean_drawdown = np.mean(monthly_drawdowns)"
   ]
  },
  {
   "cell_type": "code",
   "execution_count": 54,
   "metadata": {},
   "outputs": [
    {
     "data": {
      "text/plain": [
       "Text(0.5, 1.0, 'S&P500 - Mean Monthly Maximum Drawdown')"
      ]
     },
     "execution_count": 54,
     "metadata": {},
     "output_type": "execute_result"
    },
    {
     "data": {
      "image/png": "[encoded data removed]",
      "text/plain": [
       "<Figure size 432x288 with 1 Axes>"
      ]
     },
     "metadata": {
      "needs_background": "light"
     },
     "output_type": "display_data"
    }
   ],
   "source": [
    "plt.hist(monthly_mean_drawdown, bins = 50, alpha = 0.8)\n",
    "plt.xlabel(\"Mean Monthly Maximum Drawdown\")\n",
    "plt.ylabel(\"Density\")\n",
    "plt.title(\"S&P500 - Mean Monthly Maximum Drawdown\")"
   ]
  },
  {
   "cell_type": "markdown",
   "metadata": {},
   "source": [
    "**Generating a DataFrame with the final features**"
   ]
  },
  {
   "cell_type": "code",
   "execution_count": 55,
   "metadata": {},
   "outputs": [],
   "source": [
    "final_features = pd.DataFrame({ 'Mean Monthly Return': monthly_mean_returns, 'Mean Monthly Traded Volume': monthly_mean_traded_volumes, 'Mean Monthly Volatility': monthly_mean_volatility, 'Mean Monthly Maximum Drawdown': monthly_mean_drawdown})\n"
   ]
  },
  {
   "cell_type": "code",
   "execution_count": 56,
   "metadata": {},
   "outputs": [
    {
     "data": {
      "text/plain": [
       "(500, 4)"
      ]
     },
     "execution_count": 56,
     "metadata": {},
     "output_type": "execute_result"
    }
   ],
   "source": [
    "final_features.shape"
   ]
  },
  {
   "cell_type": "code",
   "execution_count": 57,
   "metadata": {},
   "outputs": [
    {
     "data": {
      "text/html": [
       "<div>\n",
       "<style scoped>\n",
       "    .dataframe tbody tr th:only-of-type {\n",
       "        vertical-align: middle;\n",
       "    }\n",
       "\n",
       "    .dataframe tbody tr th {\n",
       "        vertical-align: top;\n",
       "    }\n",
       "\n",
       "    .dataframe thead th {\n",
       "        text-align: right;\n",
       "    }\n",
       "</style>\n",
       "<table border=\"1\" class=\"dataframe\">\n",
       "  <thead>\n",
       "    <tr style=\"text-align: right;\">\n",
       "      <th></th>\n",
       "      <th>Mean Monthly Return</th>\n",
       "      <th>Mean Monthly Traded Volume</th>\n",
       "      <th>Mean Monthly Volatility</th>\n",
       "      <th>Mean Monthly Maximum Drawdown</th>\n",
       "    </tr>\n",
       "  </thead>\n",
       "  <tbody>\n",
       "    <tr>\n",
       "      <th>IPG</th>\n",
       "      <td>0.011576</td>\n",
       "      <td>9.545702e+07</td>\n",
       "      <td>0.031499</td>\n",
       "      <td>3.244268</td>\n",
       "    </tr>\n",
       "    <tr>\n",
       "      <th>V</th>\n",
       "      <td>0.016937</td>\n",
       "      <td>2.051184e+08</td>\n",
       "      <td>0.022153</td>\n",
       "      <td>26.016464</td>\n",
       "    </tr>\n",
       "    <tr>\n",
       "      <th>HWM</th>\n",
       "      <td>0.016690</td>\n",
       "      <td>8.068492e+07</td>\n",
       "      <td>0.042575</td>\n",
       "      <td>5.074068</td>\n",
       "    </tr>\n",
       "    <tr>\n",
       "      <th>MRO</th>\n",
       "      <td>0.008212</td>\n",
       "      <td>6.634192e+08</td>\n",
       "      <td>0.050598</td>\n",
       "      <td>2.611442</td>\n",
       "    </tr>\n",
       "    <tr>\n",
       "      <th>ABT</th>\n",
       "      <td>0.022444</td>\n",
       "      <td>1.413609e+08</td>\n",
       "      <td>0.020818</td>\n",
       "      <td>11.705959</td>\n",
       "    </tr>\n",
       "  </tbody>\n",
       "</table>\n",
       "</div>"
      ],
      "text/plain": [
       "     Mean Monthly Return  Mean Monthly Traded Volume  Mean Monthly Volatility  \\\n",
       "IPG             0.011576                9.545702e+07                 0.031499   \n",
       "V               0.016937                2.051184e+08                 0.022153   \n",
       "HWM             0.016690                8.068492e+07                 0.042575   \n",
       "MRO             0.008212                6.634192e+08                 0.050598   \n",
       "ABT             0.022444                1.413609e+08                 0.020818   \n",
       "\n",
       "     Mean Monthly Maximum Drawdown  \n",
       "IPG                       3.244268  \n",
       "V                        26.016464  \n",
       "HWM                       5.074068  \n",
       "MRO                       2.611442  \n",
       "ABT                      11.705959  "
      ]
     },
     "execution_count": 57,
     "metadata": {},
     "output_type": "execute_result"
    }
   ],
   "source": [
    "final_features.head()"
   ]
  },
  {
   "cell_type": "markdown",
   "metadata": {},
   "source": [
    "## Standardizing Data for PCA Algorithm - Can we identify industry sector with these features ?"
   ]
  },
  {
   "cell_type": "code",
   "execution_count": 58,
   "metadata": {},
   "outputs": [],
   "source": [
    "from sklearn.preprocessing import StandardScaler\n",
    "\n",
    "scaler = StandardScaler()\n",
    "final_features = pd.DataFrame(scaler.fit_transform(final_features), columns = final_features.columns, index = final_features.index)"
   ]
  },
  {
   "cell_type": "code",
   "execution_count": 59,
   "metadata": {},
   "outputs": [
    {
     "data": {
      "text/html": [
       "<div>\n",
       "<style scoped>\n",
       "    .dataframe tbody tr th:only-of-type {\n",
       "        vertical-align: middle;\n",
       "    }\n",
       "\n",
       "    .dataframe tbody tr th {\n",
       "        vertical-align: top;\n",
       "    }\n",
       "\n",
       "    .dataframe thead th {\n",
       "        text-align: right;\n",
       "    }\n",
       "</style>\n",
       "<table border=\"1\" class=\"dataframe\">\n",
       "  <thead>\n",
       "    <tr style=\"text-align: right;\">\n",
       "      <th></th>\n",
       "      <th>Mean Monthly Return</th>\n",
       "      <th>Mean Monthly Traded Volume</th>\n",
       "      <th>Mean Monthly Volatility</th>\n",
       "      <th>Mean Monthly Maximum Drawdown</th>\n",
       "    </tr>\n",
       "  </thead>\n",
       "  <tbody>\n",
       "    <tr>\n",
       "      <th>IPG</th>\n",
       "      <td>-0.208246</td>\n",
       "      <td>-0.104311</td>\n",
       "      <td>0.334293</td>\n",
       "      <td>-0.467842</td>\n",
       "    </tr>\n",
       "    <tr>\n",
       "      <th>V</th>\n",
       "      <td>-0.014387</td>\n",
       "      <td>0.345945</td>\n",
       "      <td>-0.692129</td>\n",
       "      <td>0.075559</td>\n",
       "    </tr>\n",
       "    <tr>\n",
       "      <th>HWM</th>\n",
       "      <td>-0.023326</td>\n",
       "      <td>-0.164964</td>\n",
       "      <td>1.550930</td>\n",
       "      <td>-0.424179</td>\n",
       "    </tr>\n",
       "    <tr>\n",
       "      <th>MRO</th>\n",
       "      <td>-0.329918</td>\n",
       "      <td>2.227672</td>\n",
       "      <td>2.432132</td>\n",
       "      <td>-0.482943</td>\n",
       "    </tr>\n",
       "    <tr>\n",
       "      <th>ABT</th>\n",
       "      <td>0.184784</td>\n",
       "      <td>0.084164</td>\n",
       "      <td>-0.838766</td>\n",
       "      <td>-0.265925</td>\n",
       "    </tr>\n",
       "  </tbody>\n",
       "</table>\n",
       "</div>"
      ],
      "text/plain": [
       "     Mean Monthly Return  Mean Monthly Traded Volume  Mean Monthly Volatility  \\\n",
       "IPG            -0.208246                   -0.104311                 0.334293   \n",
       "V              -0.014387                    0.345945                -0.692129   \n",
       "HWM            -0.023326                   -0.164964                 1.550930   \n",
       "MRO            -0.329918                    2.227672                 2.432132   \n",
       "ABT             0.184784                    0.084164                -0.838766   \n",
       "\n",
       "     Mean Monthly Maximum Drawdown  \n",
       "IPG                      -0.467842  \n",
       "V                         0.075559  \n",
       "HWM                      -0.424179  \n",
       "MRO                      -0.482943  \n",
       "ABT                      -0.265925  "
      ]
     },
     "execution_count": 59,
     "metadata": {},
     "output_type": "execute_result"
    }
   ],
   "source": [
    "final_features.head()"
   ]
  },
  {
   "cell_type": "markdown",
   "metadata": {},
   "source": [
    "**Getting companies' industry sector, dividends, number of employees, profit margins and market capitalization for enhancing classification analyses of PCA's performance**"
   ]
  },
  {
   "cell_type": "markdown",
   "metadata": {},
   "source": [
    "<span style=\"color:red\">**Attention! This cell takes about half hour to execute.**</span>"
   ]
  },
  {
   "cell_type": "code",
   "execution_count": 60,
   "metadata": {},
   "outputs": [
    {
     "name": "stdout",
     "output_type": "stream",
     "text": [
      "Complete data found for company with ticker: IPG\n",
      "\n",
      "Complete data found for company with ticker: V\n",
      "\n",
      "Complete data found for company with ticker: HWM\n",
      "\n",
      "Complete data found for company with ticker: MRO\n",
      "\n",
      "Complete data found for company with ticker: ABT\n",
      "\n",
      "Complete data found for company with ticker: DAL\n",
      "\n",
      "Complete data found for company with ticker: CSCO\n",
      "\n",
      "Complete data found for company with ticker: OXY\n",
      "\n",
      "Complete data found for company with ticker: ULTA\n",
      "\n",
      "Complete data found for company with ticker: TECH\n",
      "\n",
      "Complete data found for company with ticker: PRU\n",
      "\n",
      "Complete data found for company with ticker: VTRS\n",
      "\n",
      "Complete data found for company with ticker: PKI\n",
      "\n",
      "Complete data found for company with ticker: EMN\n",
      "\n",
      "Complete data found for company with ticker: TFC\n",
      "\n",
      "Complete data found for company with ticker: CDNS\n",
      "\n",
      "Complete data found for company with ticker: HSY\n",
      "\n",
      "Complete data found for company with ticker: CMI\n",
      "\n",
      "Complete data found for company with ticker: ILMN\n",
      "\n",
      "Complete data found for company with ticker: CHD\n",
      "\n",
      "Complete data found for company with ticker: PNR\n",
      "\n",
      "Complete data found for company with ticker: WM\n",
      "\n",
      "Complete data found for company with ticker: LUMN\n",
      "\n",
      "Complete data found for company with ticker: HBI\n",
      "\n",
      "Complete data found for company with ticker: O\n",
      "\n",
      "Complete data found for company with ticker: MTCH\n",
      "\n",
      "Complete data found for company with ticker: D\n",
      "\n",
      "Complete data found for company with ticker: LRCX\n",
      "\n",
      "Complete data found for company with ticker: CTRA\n",
      "\n",
      "Complete data found for company with ticker: L\n",
      "\n",
      "Complete data found for company with ticker: BMY\n",
      "\n",
      "Complete data found for company with ticker: TSCO\n",
      "\n",
      "Complete data found for company with ticker: MAS\n",
      "\n",
      "Complete data found for company with ticker: FLT\n",
      "\n",
      "Complete data found for company with ticker: IEX\n",
      "\n",
      "Complete data found for company with ticker: ITW\n",
      "\n",
      "Complete data found for company with ticker: INCY\n",
      "\n",
      "Complete data found for company with ticker: DRE\n",
      "\n",
      "Complete data found for company with ticker: HIG\n",
      "\n",
      "Complete data found for company with ticker: DVA\n",
      "\n",
      "Complete data found for company with ticker: VFC\n",
      "\n",
      "Complete data found for company with ticker: ENPH\n",
      "\n",
      "Complete data found for company with ticker: EL\n",
      "\n",
      "Complete data found for company with ticker: WRK\n",
      "\n",
      "Complete data found for company with ticker: DXC\n",
      "\n",
      "Complete data found for company with ticker: MAR\n",
      "\n",
      "Complete data found for company with ticker: WAT\n",
      "\n",
      "Complete data found for company with ticker: F\n",
      "\n",
      "Complete data found for company with ticker: NOC\n",
      "\n",
      "Complete data found for company with ticker: CHRW\n",
      "\n",
      "Complete data found for company with ticker: UPS\n",
      "\n",
      "Complete data found for company with ticker: XYL\n",
      "\n",
      "Complete data found for company with ticker: INTC\n",
      "\n",
      "Complete data found for company with ticker: KHC\n",
      "\n",
      "Complete data found for company with ticker: SYK\n",
      "\n",
      "Complete data found for company with ticker: WRB\n",
      "\n",
      "Complete data found for company with ticker: XRAY\n",
      "\n",
      "Complete data found for company with ticker: PG\n",
      "\n",
      "Complete data found for company with ticker: CI\n",
      "\n",
      "Complete data found for company with ticker: GWW\n",
      "\n",
      "Complete data found for company with ticker: ABBV\n",
      "\n",
      "Complete data found for company with ticker: RHI\n",
      "\n",
      "Complete data found for company with ticker: WLTW\n",
      "\n",
      "Complete data found for company with ticker: CTSH\n",
      "\n",
      "Complete data found for company with ticker: NVR\n",
      "\n",
      "Complete data found for company with ticker: IR\n",
      "\n",
      "Complete data found for company with ticker: CAH\n",
      "\n",
      "Complete data found for company with ticker: MA\n",
      "\n",
      "Complete data found for company with ticker: JBHT\n",
      "\n",
      "Complete data found for company with ticker: TDG\n",
      "\n",
      "Complete data found for company with ticker: EBAY\n",
      "\n",
      "Complete data found for company with ticker: DISCA\n",
      "\n",
      "Complete data found for company with ticker: APH\n",
      "\n",
      "Complete data found for company with ticker: EXPE\n",
      "\n",
      "Complete data found for company with ticker: AIZ\n",
      "\n",
      "Complete data found for company with ticker: ICE\n",
      "\n",
      "Complete data found for company with ticker: BKNG\n",
      "\n",
      "Complete data found for company with ticker: SIVB\n",
      "\n",
      "Complete data found for company with ticker: CMS\n",
      "\n",
      "Complete data found for company with ticker: NTRS\n",
      "\n",
      "Complete data found for company with ticker: SPGI\n",
      "\n",
      "Complete data found for company with ticker: CME\n",
      "\n",
      "Complete data found for company with ticker: WHR\n",
      "\n",
      "Complete data found for company with ticker: FRC\n",
      "\n",
      "Complete data found for company with ticker: ALL\n",
      "\n",
      "Complete data found for company with ticker: NWS\n",
      "\n",
      "Complete data found for company with ticker: WST\n",
      "\n",
      "Complete data found for company with ticker: TER\n",
      "\n",
      "Complete data found for company with ticker: LNC\n",
      "\n",
      "Complete data found for company with ticker: GD\n",
      "\n",
      "Complete data found for company with ticker: CVS\n",
      "\n",
      "Complete data found for company with ticker: TFX\n",
      "\n",
      "Complete data found for company with ticker: DOV\n",
      "\n",
      "Complete data found for company with ticker: RCL\n",
      "\n",
      "Complete data found for company with ticker: FANG\n",
      "\n",
      "Complete data found for company with ticker: GPC\n",
      "\n",
      "Complete data found for company with ticker: XEL\n",
      "\n",
      "Complete data found for company with ticker: ABC\n",
      "\n",
      "Complete data found for company with ticker: ANSS\n",
      "\n",
      "Complete data found for company with ticker: TYL\n",
      "\n",
      "Complete data found for company with ticker: SPG\n",
      "\n",
      "Complete data found for company with ticker: MO\n",
      "\n",
      "Complete data found for company with ticker: BR\n",
      "\n",
      "Complete data found for company with ticker: EVRG\n",
      "\n",
      "Complete data found for company with ticker: FCX\n",
      "\n",
      "Number of employees not found for DIS.\n",
      "\n",
      "Complete data found for company with ticker: ZTS\n",
      "\n",
      "Complete data found for company with ticker: FITB\n",
      "\n",
      "Complete data found for company with ticker: UDR\n",
      "\n",
      "Complete data found for company with ticker: BBY\n",
      "\n",
      "Complete data found for company with ticker: GM\n",
      "\n",
      "Complete data found for company with ticker: BKR\n",
      "\n",
      "Complete data found for company with ticker: GOOGL\n",
      "\n",
      "Complete data found for company with ticker: CVX\n",
      "\n",
      "Complete data found for company with ticker: EXR\n",
      "\n",
      "Complete data found for company with ticker: AOS\n",
      "\n",
      "Complete data found for company with ticker: GOOG\n",
      "\n",
      "Complete data found for company with ticker: CAT\n",
      "\n",
      "Complete data found for company with ticker: HUM\n",
      "\n",
      "Complete data found for company with ticker: SYF\n",
      "\n",
      "Complete data found for company with ticker: PM\n",
      "\n",
      "Complete data found for company with ticker: ROP\n",
      "\n",
      "Complete data found for company with ticker: WFC\n",
      "\n",
      "Complete data found for company with ticker: HLT\n",
      "\n",
      "Complete data found for company with ticker: URI\n",
      "\n",
      "Complete data found for company with ticker: CERN\n",
      "\n",
      "Complete data found for company with ticker: PHM\n",
      "\n",
      "Complete data found for company with ticker: BRO\n",
      "\n",
      "Complete data found for company with ticker: SO\n",
      "\n",
      "Complete data found for company with ticker: IBM\n",
      "\n",
      "Complete data found for company with ticker: AJG\n",
      "\n",
      "Complete data found for company with ticker: MCK\n",
      "\n",
      "Complete data found for company with ticker: PSA\n",
      "\n",
      "Complete data found for company with ticker: MPWR\n",
      "\n",
      "Complete data found for company with ticker: QCOM\n",
      "\n",
      "Complete data found for company with ticker: COF\n",
      "\n",
      "Complete data found for company with ticker: ROK\n",
      "\n",
      "Complete data found for company with ticker: TXN\n",
      "\n",
      "Complete data found for company with ticker: RMD\n",
      "\n",
      "Complete data found for company with ticker: ZBH\n",
      "\n",
      "Complete data found for company with ticker: WMT\n",
      "\n",
      "Complete data found for company with ticker: MTD\n",
      "\n",
      "Complete data found for company with ticker: IQV\n",
      "\n",
      "Complete data found for company with ticker: CB\n",
      "\n",
      "Complete data found for company with ticker: LH\n",
      "\n",
      "Complete data found for company with ticker: HES\n",
      "\n",
      "Complete data found for company with ticker: LUV\n",
      "\n",
      "Complete data found for company with ticker: ED\n",
      "\n",
      "Complete data found for company with ticker: AWK\n",
      "\n",
      "Complete data found for company with ticker: TROW\n",
      "\n",
      "Complete data found for company with ticker: CL\n",
      "\n",
      "Complete data found for company with ticker: STT\n",
      "\n",
      "Complete data found for company with ticker: AXP\n",
      "\n",
      "Complete data found for company with ticker: IP\n",
      "\n",
      "Complete data found for company with ticker: EA\n",
      "\n",
      "Complete data found for company with ticker: CDAY\n",
      "\n",
      "Complete data found for company with ticker: NTAP\n",
      "\n",
      "Complete data found for company with ticker: MRNA\n",
      "\n",
      "Complete data found for company with ticker: CMA\n",
      "\n",
      "Complete data found for company with ticker: ISRG\n",
      "\n",
      "Complete data found for company with ticker: MKTX\n",
      "\n",
      "Complete data found for company with ticker: CFG\n",
      "\n",
      "Complete data found for company with ticker: DPZ\n",
      "\n",
      "Complete data found for company with ticker: MAA\n",
      "\n"
     ]
    },
    {
     "name": "stdout",
     "output_type": "stream",
     "text": [
      "Complete data found for company with ticker: DVN\n",
      "\n",
      "Complete data found for company with ticker: SNPS\n",
      "\n",
      "Complete data found for company with ticker: TMUS\n",
      "\n",
      "Complete data found for company with ticker: SBAC\n",
      "\n",
      "Complete data found for company with ticker: YUM\n",
      "\n",
      "Complete data found for company with ticker: CTVA\n",
      "\n",
      "Complete data found for company with ticker: PNW\n",
      "\n",
      "Complete data found for company with ticker: SCHW\n",
      "\n",
      "Complete data found for company with ticker: COP\n",
      "\n",
      "Complete data found for company with ticker: LMT\n",
      "\n",
      "Complete data found for company with ticker: GILD\n",
      "\n",
      "Complete data found for company with ticker: NLOK\n",
      "\n",
      "Complete data found for company with ticker: XLNX\n",
      "\n",
      "Complete data found for company with ticker: PEAK\n",
      "\n",
      "Complete data found for company with ticker: NEM\n",
      "\n",
      "Complete data found for company with ticker: CSX\n",
      "\n",
      "Complete data found for company with ticker: GPS\n",
      "\n",
      "Complete data found for company with ticker: ROL\n",
      "\n",
      "Complete data found for company with ticker: RSG\n",
      "\n",
      "Complete data found for company with ticker: MKC\n",
      "\n",
      "Complete data found for company with ticker: JPM\n",
      "\n",
      "Complete data found for company with ticker: ANET\n",
      "\n",
      "Complete data found for company with ticker: MDT\n",
      "\n",
      "Complete data found for company with ticker: BIIB\n",
      "\n",
      "Complete data found for company with ticker: NCLH\n",
      "\n",
      "Complete data found for company with ticker: HON\n",
      "\n",
      "Complete data found for company with ticker: LDOS\n",
      "\n",
      "Complete data found for company with ticker: CCI\n",
      "\n",
      "Complete data found for company with ticker: PGR\n",
      "\n",
      "Complete data found for company with ticker: HRL\n",
      "\n",
      "Complete data found for company with ticker: ALLE\n",
      "\n",
      "Complete data found for company with ticker: HAS\n",
      "\n",
      "Complete data found for company with ticker: NWSA\n",
      "\n",
      "Complete data found for company with ticker: SNA\n",
      "\n",
      "Complete data found for company with ticker: FAST\n",
      "\n",
      "Complete data found for company with ticker: T\n",
      "\n",
      "Complete data found for company with ticker: ALGN\n",
      "\n",
      "Complete data found for company with ticker: BAX\n",
      "\n",
      "Complete data found for company with ticker: RTX\n",
      "\n",
      "Complete data found for company with ticker: HOLX\n",
      "\n",
      "Complete data found for company with ticker: IDXX\n",
      "\n",
      "Complete data found for company with ticker: ACN\n",
      "\n",
      "Complete data found for company with ticker: GRMN\n",
      "\n",
      "Complete data found for company with ticker: MGM\n",
      "\n",
      "Complete data found for company with ticker: DLTR\n",
      "\n",
      "Complete data found for company with ticker: SBUX\n",
      "\n",
      "Complete data found for company with ticker: ETN\n",
      "\n",
      "Complete data found for company with ticker: PKG\n",
      "\n",
      "Complete data found for company with ticker: WY\n",
      "\n",
      "Complete data found for company with ticker: FTV\n",
      "\n",
      "Complete data found for company with ticker: HD\n",
      "\n",
      "Complete data found for company with ticker: NEE\n",
      "\n",
      "Complete data found for company with ticker: DFS\n",
      "\n",
      "Complete data found for company with ticker: MSFT\n",
      "\n",
      "Complete data found for company with ticker: GLW\n",
      "\n",
      "Complete data found for company with ticker: PSX\n",
      "\n",
      "Complete data found for company with ticker: AAP\n",
      "\n",
      "Complete data found for company with ticker: DD\n",
      "\n",
      "Complete data found for company with ticker: QRVO\n",
      "\n",
      "Complete data found for company with ticker: ETSY\n",
      "\n",
      "Complete data found for company with ticker: MNST\n",
      "\n",
      "Complete data found for company with ticker: GIS\n",
      "\n",
      "Complete data found for company with ticker: LOW\n",
      "\n",
      "Complete data found for company with ticker: BK\n",
      "\n",
      "Complete data found for company with ticker: PFG\n",
      "\n",
      "Complete data found for company with ticker: ECL\n",
      "\n",
      "Complete data found for company with ticker: DUK\n",
      "\n",
      "Complete data found for company with ticker: MMM\n",
      "\n",
      "Complete data found for company with ticker: NI\n",
      "\n",
      "Complete data found for company with ticker: ATVI\n",
      "\n",
      "Complete data found for company with ticker: VTR\n",
      "\n",
      "Complete data found for company with ticker: SJM\n",
      "\n",
      "Complete data found for company with ticker: TJX\n",
      "\n",
      "Complete data found for company with ticker: LYV\n",
      "\n",
      "Complete data found for company with ticker: APD\n",
      "\n",
      "Complete data found for company with ticker: IRM\n",
      "\n",
      "Complete data found for company with ticker: WAB\n",
      "\n",
      "Complete data found for company with ticker: BAC\n",
      "\n",
      "Complete data found for company with ticker: CRL\n",
      "\n",
      "Complete data found for company with ticker: TTWO\n",
      "\n",
      "Complete data found for company with ticker: RJF\n",
      "\n",
      "Complete data found for company with ticker: ES\n",
      "\n",
      "Complete data found for company with ticker: AEE\n",
      "\n",
      "Complete data found for company with ticker: HCA\n",
      "\n",
      "Complete data found for company with ticker: ORCL\n",
      "\n",
      "Complete data found for company with ticker: RF\n",
      "\n",
      "Complete data found for company with ticker: APTV\n",
      "\n",
      "Complete data found for company with ticker: K\n",
      "\n",
      "Complete data found for company with ticker: LLY\n",
      "\n",
      "Number of employees not found for PTC.\n",
      "\n",
      "Complete data found for company with ticker: AIG\n",
      "\n",
      "Complete data found for company with ticker: PPG\n",
      "\n",
      "Complete data found for company with ticker: AMP\n",
      "\n",
      "Complete data found for company with ticker: WELL\n",
      "\n",
      "Complete data found for company with ticker: AVB\n",
      "\n",
      "Complete data found for company with ticker: VNO\n",
      "\n",
      "Complete data found for company with ticker: TPR\n",
      "\n",
      "Complete data found for company with ticker: VZ\n",
      "\n",
      "Complete data found for company with ticker: UHS\n",
      "\n",
      "Complete data found for company with ticker: CHTR\n",
      "\n",
      "Complete data found for company with ticker: CBRE\n",
      "\n",
      "Complete data found for company with ticker: MCHP\n",
      "\n",
      "Complete data found for company with ticker: MU\n",
      "\n",
      "Complete data found for company with ticker: NOW\n",
      "\n",
      "Complete data found for company with ticker: ESS\n",
      "\n",
      "Complete data found for company with ticker: CPB\n",
      "\n",
      "Complete data found for company with ticker: TRMB\n",
      "\n",
      "Complete data found for company with ticker: OKE\n",
      "\n",
      "Complete data found for company with ticker: AZO\n",
      "\n",
      "Complete data found for company with ticker: MMC\n",
      "\n",
      "Complete data found for company with ticker: PFE\n",
      "\n",
      "Complete data found for company with ticker: HPE\n",
      "\n",
      "Complete data found for company with ticker: ABMD\n",
      "\n",
      "Complete data found for company with ticker: PYPL\n",
      "\n",
      "Complete data found for company with ticker: ATO\n",
      "\n",
      "Complete data found for company with ticker: FOXA\n",
      "\n",
      "Complete data found for company with ticker: ODFL\n",
      "\n",
      "Complete data found for company with ticker: FOX\n",
      "\n",
      "Complete data found for company with ticker: KO\n",
      "\n",
      "Complete data found for company with ticker: WYNN\n",
      "\n",
      "Complete data found for company with ticker: PNC\n",
      "\n",
      "Complete data found for company with ticker: HBAN\n",
      "\n",
      "Complete data found for company with ticker: INTU\n",
      "\n",
      "Complete data found for company with ticker: ADM\n",
      "\n",
      "Complete data found for company with ticker: IVZ\n",
      "\n",
      "Complete data found for company with ticker: LKQ\n",
      "\n",
      "Complete data found for company with ticker: AMAT\n",
      "\n",
      "Complete data found for company with ticker: PXD\n",
      "\n",
      "Complete data found for company with ticker: AMZN\n",
      "\n",
      "Complete data found for company with ticker: DGX\n",
      "\n",
      "Complete data found for company with ticker: NFLX\n",
      "\n",
      "Complete data found for company with ticker: MCD\n",
      "\n",
      "Complete data found for company with ticker: KMI\n",
      "\n",
      "Complete data found for company with ticker: ORLY\n",
      "\n",
      "Complete data found for company with ticker: EQR\n",
      "\n",
      "Complete data found for company with ticker: AMD\n",
      "\n",
      "Complete data found for company with ticker: UAL\n",
      "\n",
      "Complete data found for company with ticker: TXT\n",
      "\n",
      "Complete data found for company with ticker: A\n",
      "\n",
      "Complete data found for company with ticker: RL\n",
      "\n",
      "Complete data found for company with ticker: PPL\n",
      "\n",
      "Complete data found for company with ticker: AES\n",
      "\n",
      "Complete data found for company with ticker: AMCR\n",
      "\n",
      "Complete data found for company with ticker: VRSN\n",
      "\n",
      "Complete data found for company with ticker: BBWI\n",
      "\n",
      "Complete data found for company with ticker: CMCSA\n",
      "\n",
      "Complete data found for company with ticker: HAL\n",
      "\n",
      "Complete data found for company with ticker: DISH\n",
      "\n",
      "Complete data found for company with ticker: MOS\n",
      "\n",
      "Complete data found for company with ticker: LEG\n",
      "\n",
      "Complete data found for company with ticker: COO\n",
      "\n",
      "Complete data found for company with ticker: ADI\n",
      "\n",
      "Complete data found for company with ticker: PBCT\n",
      "\n",
      "Complete data found for company with ticker: AMGN\n",
      "\n",
      "Complete data found for company with ticker: FRT\n",
      "\n",
      "Complete data found for company with ticker: FIS\n",
      "\n",
      "Complete data found for company with ticker: NXPI\n",
      "\n",
      "Complete data found for company with ticker: PENN\n",
      "\n",
      "Complete data found for company with ticker: MSI\n",
      "\n",
      "Complete data found for company with ticker: XOM\n",
      "\n",
      "Complete data found for company with ticker: ADP\n",
      "\n",
      "Complete data found for company with ticker: FDX\n",
      "\n",
      "Complete data found for company with ticker: MRK\n",
      "\n",
      "Complete data found for company with ticker: CMG\n",
      "\n"
     ]
    },
    {
     "name": "stdout",
     "output_type": "stream",
     "text": [
      "Complete data found for company with ticker: SHW\n",
      "\n",
      "Number of employees not found for MET.\n",
      "\n",
      "Complete data found for company with ticker: SWKS\n",
      "\n",
      "Complete data found for company with ticker: VIAC\n",
      "\n",
      "Complete data found for company with ticker: AVGO\n",
      "\n",
      "Complete data found for company with ticker: DLR\n",
      "\n",
      "Complete data found for company with ticker: GNRC\n",
      "\n",
      "Complete data found for company with ticker: CCL\n",
      "\n",
      "Complete data found for company with ticker: NUE\n",
      "\n",
      "Complete data found for company with ticker: ALB\n",
      "\n",
      "Complete data found for company with ticker: SWK\n",
      "\n",
      "Complete data found for company with ticker: NKE\n",
      "\n",
      "Complete data found for company with ticker: DTE\n",
      "\n",
      "Complete data found for company with ticker: FISV\n",
      "\n",
      "Complete data found for company with ticker: MS\n",
      "\n",
      "Complete data found for company with ticker: BDX\n",
      "\n",
      "Complete data found for company with ticker: CNP\n",
      "\n",
      "Complete data found for company with ticker: JNPR\n",
      "\n",
      "Complete data found for company with ticker: ETR\n",
      "\n",
      "Complete data found for company with ticker: BWA\n",
      "\n",
      "Complete data found for company with ticker: HII\n",
      "\n",
      "Complete data found for company with ticker: OMC\n",
      "\n",
      "Complete data found for company with ticker: NRG\n",
      "\n",
      "Complete data found for company with ticker: ADBE\n",
      "\n",
      "Complete data found for company with ticker: CZR\n",
      "\n",
      "Complete data found for company with ticker: KEYS\n",
      "\n",
      "Complete data found for company with ticker: TAP\n",
      "\n",
      "Complete data found for company with ticker: UAA\n",
      "\n",
      "Complete data found for company with ticker: BXP\n",
      "\n",
      "Complete data found for company with ticker: EXC\n",
      "\n",
      "Complete data found for company with ticker: MDLZ\n",
      "\n",
      "Complete data found for company with ticker: J\n",
      "\n",
      "Complete data found for company with ticker: VLO\n",
      "\n",
      "Complete data found for company with ticker: AON\n",
      "\n",
      "Complete data found for company with ticker: APA\n",
      "\n",
      "Complete data found for company with ticker: FFIV\n",
      "\n",
      "Complete data found for company with ticker: JCI\n",
      "\n",
      "Complete data found for company with ticker: FE\n",
      "\n",
      "Complete data found for company with ticker: NVDA\n",
      "\n",
      "Complete data found for company with ticker: AME\n",
      "\n",
      "Complete data found for company with ticker: EXPD\n",
      "\n",
      "Complete data found for company with ticker: REG\n",
      "\n",
      "Complete data found for company with ticker: BEN\n",
      "\n",
      "Complete data found for company with ticker: SLB\n",
      "\n",
      "Complete data found for company with ticker: ANTM\n",
      "\n",
      "Complete data found for company with ticker: CTLT\n",
      "\n",
      "Complete data found for company with ticker: JKHY\n",
      "\n",
      "Complete data found for company with ticker: KMX\n",
      "\n",
      "Complete data found for company with ticker: PH\n",
      "\n",
      "Complete data found for company with ticker: LYB\n",
      "\n",
      "Complete data found for company with ticker: TDY\n",
      "\n",
      "Complete data found for company with ticker: GE\n",
      "\n",
      "Complete data found for company with ticker: TWTR\n",
      "\n",
      "Complete data found for company with ticker: NDAQ\n",
      "\n",
      "Complete data found for company with ticker: TSLA\n",
      "\n",
      "Complete data found for company with ticker: DOW\n",
      "\n",
      "Complete data found for company with ticker: WEC\n",
      "\n",
      "Complete data found for company with ticker: EOG\n",
      "\n",
      "Complete data found for company with ticker: AFL\n",
      "\n",
      "Complete data found for company with ticker: DG\n",
      "\n",
      "Complete data found for company with ticker: PEP\n",
      "\n",
      "Complete data found for company with ticker: TGT\n",
      "\n",
      "Complete data found for company with ticker: PEG\n",
      "\n",
      "Complete data found for company with ticker: SYY\n",
      "\n",
      "Complete data found for company with ticker: UA\n",
      "\n",
      "Complete data found for company with ticker: PWR\n",
      "\n",
      "Complete data found for company with ticker: CTAS\n",
      "\n",
      "Complete data found for company with ticker: WU\n",
      "\n",
      "Complete data found for company with ticker: CRM\n",
      "\n",
      "Complete data found for company with ticker: PLD\n",
      "\n",
      "Complete data found for company with ticker: UNP\n",
      "\n",
      "Complete data found for company with ticker: TSN\n",
      "\n",
      "Complete data found for company with ticker: JNJ\n",
      "\n",
      "Complete data found for company with ticker: WMB\n",
      "\n",
      "Complete data found for company with ticker: HST\n",
      "\n",
      "Complete data found for company with ticker: GS\n",
      "\n",
      "Complete data found for company with ticker: LVS\n",
      "\n",
      "Complete data found for company with ticker: C\n",
      "\n",
      "Complete data found for company with ticker: KLAC\n",
      "\n",
      "Complete data found for company with ticker: DHI\n",
      "\n",
      "Complete data found for company with ticker: MCO\n",
      "\n",
      "Complete data found for company with ticker: AAL\n",
      "\n",
      "Complete data found for company with ticker: USB\n",
      "\n",
      "Complete data found for company with ticker: VMC\n",
      "\n",
      "Complete data found for company with ticker: PAYX\n",
      "\n",
      "Complete data found for company with ticker: WBA\n",
      "\n",
      "Complete data found for company with ticker: LHX\n",
      "\n",
      "Complete data found for company with ticker: MPC\n",
      "\n",
      "Complete data found for company with ticker: LEN\n",
      "\n",
      "Complete data found for company with ticker: GPN\n",
      "\n",
      "Complete data found for company with ticker: EPAM\n",
      "\n",
      "Number of employees not found for EMR.\n",
      "\n",
      "Complete data found for company with ticker: AMT\n",
      "\n",
      "Complete data found for company with ticker: PVH\n",
      "\n",
      "Complete data found for company with ticker: IPGP\n",
      "\n",
      "Complete data found for company with ticker: STZ\n",
      "\n",
      "Complete data found for company with ticker: ADSK\n",
      "\n",
      "Complete data found for company with ticker: BA\n",
      "\n",
      "Complete data found for company with ticker: PAYC\n",
      "\n",
      "Complete data found for company with ticker: CBOE\n",
      "\n",
      "Complete data found for company with ticker: NLSN\n",
      "\n",
      "Complete data found for company with ticker: LIN\n",
      "\n",
      "Complete data found for company with ticker: LNT\n",
      "\n",
      "Complete data found for company with ticker: TEL\n",
      "\n",
      "Complete data found for company with ticker: AKAM\n",
      "\n",
      "Complete data found for company with ticker: ARE\n",
      "\n",
      "Complete data found for company with ticker: EIX\n",
      "\n",
      "Complete data found for company with ticker: KIM\n",
      "\n",
      "Complete data found for company with ticker: MLM\n",
      "\n",
      "Complete data found for company with ticker: ZION\n",
      "\n",
      "Complete data found for company with ticker: RE\n",
      "\n",
      "Complete data found for company with ticker: EQIX\n",
      "\n",
      "Complete data found for company with ticker: LW\n",
      "\n",
      "Complete data found for company with ticker: SEE\n",
      "\n",
      "Complete data found for company with ticker: WDC\n",
      "\n",
      "Complete data found for company with ticker: HPQ\n",
      "\n",
      "Complete data found for company with ticker: SRE\n",
      "\n",
      "Complete data found for company with ticker: AVY\n",
      "\n",
      "Complete data found for company with ticker: CNC\n",
      "\n",
      "Complete data found for company with ticker: TMO\n",
      "\n",
      "Complete data found for company with ticker: AEP\n",
      "\n",
      "Complete data found for company with ticker: EW\n",
      "\n",
      "Complete data found for company with ticker: HSIC\n",
      "\n",
      "Complete data found for company with ticker: ALK\n",
      "\n",
      "Complete data found for company with ticker: POOL\n",
      "\n",
      "Complete data found for company with ticker: NSC\n",
      "\n",
      "Complete data found for company with ticker: KEY\n",
      "\n",
      "Complete data found for company with ticker: REGN\n",
      "\n",
      "Complete data found for company with ticker: TRV\n",
      "\n",
      "Complete data found for company with ticker: VRTX\n",
      "\n",
      "Complete data found for company with ticker: GL\n",
      "\n",
      "Complete data found for company with ticker: INFO\n",
      "\n",
      "Complete data found for company with ticker: BLK\n",
      "\n",
      "Complete data found for company with ticker: CE\n",
      "\n",
      "Complete data found for company with ticker: KMB\n",
      "\n",
      "Complete data found for company with ticker: KR\n",
      "\n",
      "Complete data found for company with ticker: CTXS\n",
      "\n",
      "Complete data found for company with ticker: CINF\n",
      "\n",
      "Complete data found for company with ticker: IFF\n",
      "\n",
      "Complete data found for company with ticker: BLL\n",
      "\n",
      "Complete data found for company with ticker: DXCM\n",
      "\n",
      "Complete data found for company with ticker: BSX\n",
      "\n",
      "Complete data found for company with ticker: EFX\n",
      "\n",
      "Complete data found for company with ticker: CDW\n",
      "\n",
      "Complete data found for company with ticker: FMC\n",
      "\n",
      "Complete data found for company with ticker: FBHS\n",
      "\n",
      "Complete data found for company with ticker: MHK\n",
      "\n",
      "Complete data found for company with ticker: MTB\n",
      "\n",
      "Complete data found for company with ticker: ZBRA\n",
      "\n",
      "Complete data found for company with ticker: DRI\n",
      "\n",
      "Complete data found for company with ticker: PCAR\n",
      "\n",
      "Number of employees not found for COST.\n",
      "\n",
      "Complete data found for company with ticker: AAPL\n",
      "\n",
      "Complete data found for company with ticker: CLX\n",
      "\n",
      "Complete data found for company with ticker: CAG\n",
      "\n",
      "Complete data found for company with ticker: FB\n",
      "\n",
      "Complete data found for company with ticker: CPRT\n",
      "\n",
      "Complete data found for company with ticker: MSCI\n",
      "\n",
      "Complete data found for company with ticker: STE\n",
      "\n",
      "Complete data found for company with ticker: UNH\n",
      "\n",
      "Complete data found for company with ticker: DE\n",
      "\n",
      "Complete data found for company with ticker: DISCK\n",
      "\n",
      "Complete data found for company with ticker: CF\n",
      "\n",
      "Complete data found for company with ticker: IT\n",
      "\n"
     ]
    },
    {
     "name": "stdout",
     "output_type": "stream",
     "text": [
      "Complete data found for company with ticker: NWL\n",
      "\n",
      "Complete data found for company with ticker: STX\n",
      "\n",
      "Complete data found for company with ticker: TT\n",
      "\n",
      "Complete data found for company with ticker: VRSK\n",
      "\n",
      "Complete data found for company with ticker: BIO\n",
      "\n",
      "Complete data found for company with ticker: DHR\n",
      "\n",
      "Complete data found for company with ticker: ROST\n",
      "\n",
      "Complete data found for company with ticker: FTNT\n",
      "\n"
     ]
    }
   ],
   "source": [
    "valid_stock_sectors = []\n",
    "valid_stock_dividends = []\n",
    "valid_stock_employees = []\n",
    "valid_stocks_profit_margins = []\n",
    "valid_stocks_market_cap = []\n",
    "\n",
    " \n",
    "for stock in valid_stocks:\n",
    "    flag = 1\n",
    "    tickerdata = yf.Ticker(stock)\n",
    "    try:\n",
    "        valid_stock_sectors.append(tickerdata.info['sector'])\n",
    "    except:\n",
    "        flag = 0\n",
    "        print(f\"Sector not found for {stock}.\\n\")\n",
    "        valid_stock_sectors.append(\"null\")\n",
    "    try:\n",
    "        valid_stock_dividends.append(tickerdata.info['dividendRate'])\n",
    "    except:\n",
    "        flag = 0\n",
    "        print(f\"Dividends rate not found for {stock}.\\n\")\n",
    "        valid_stock_dividends.append(np.mean(valid_stock_dividends))\n",
    "    try:\n",
    "        valid_stock_employees.append(tickerdata.info['fullTimeEmployees'])\n",
    "    except:\n",
    "        flag = 0\n",
    "        print(f\"Number of employees not found for {stock}.\\n\")\n",
    "        valid_stock_employees.append(int(np.mean(valid_stock_employees)))   \n",
    "    try:\n",
    "        valid_stocks_profit_margins.append(tickerdata.info['profitMargins'])\n",
    "    except:\n",
    "        flag = 0\n",
    "        print(f\"Profit margins not found for {stock}.\\n\")\n",
    "        valid_stocks_profit_margins.append(np.mean(valid_stocks_profit_margins)) \n",
    "    try:\n",
    "        valid_stocks_market_cap.append(tickerdata.info['marketCap'])\n",
    "    except:\n",
    "        flag = 0\n",
    "        print(f\"Market capitalization not found for {stock}.\\n\")\n",
    "        valid_stocks_market_cap.append(np.mean(valid_stocks_market_cap))\n",
    "    if(flag == 1):\n",
    "        print(f'Complete data found for company with ticker: {stock}\\n')"
   ]
  },
  {
   "cell_type": "markdown",
   "metadata": {},
   "source": [
    "**Replace \"null\" sectors with the most present sector**"
   ]
  },
  {
   "cell_type": "code",
   "execution_count": 61,
   "metadata": {},
   "outputs": [
    {
     "name": "stdout",
     "output_type": "stream",
     "text": [
      "The most frequent sector is: Technology.\n",
      "\n"
     ]
    }
   ],
   "source": [
    "from collections import Counter\n",
    "c = Counter(valid_stock_sectors)\n",
    "most_frequent_sector = c.most_common(1)[0][0]\n",
    "print(f\"The most frequent sector is: {most_frequent_sector}.\\n\")\n",
    "\n",
    "i = 0\n",
    "for i in range(len(valid_stock_sectors)):\n",
    "    if(valid_stock_sectors[i] == \"null\"):\n",
    "        valid_stock_sectors[i] = most_frequent_sector    "
   ]
  },
  {
   "cell_type": "code",
   "execution_count": 62,
   "metadata": {},
   "outputs": [],
   "source": [
    "i = 0\n",
    "for i in range(len(valid_stock_dividends)):\n",
    "    if(valid_stock_dividends[i] == None):\n",
    "        valid_stock_dividends[i] = 0.0\n",
    "    if(valid_stocks_market_cap[i] == None):\n",
    "        valid_stocks_market_cap[i] = 0.0"
   ]
  },
  {
   "cell_type": "markdown",
   "metadata": {},
   "source": [
    "<span style=\"color:blue\">**Sector Analyses before PCA results**</span>"
   ]
  },
  {
   "cell_type": "code",
   "execution_count": 63,
   "metadata": {},
   "outputs": [
    {
     "data": {
      "image/png": "[encoded data removed]",
      "text/plain": [
       "<Figure size 1440x288 with 1 Axes>"
      ]
     },
     "metadata": {},
     "output_type": "display_data"
    }
   ],
   "source": [
    "colors = ['teal', 'red', 'gold', 'royalblue', 'darkorange', 'green', 'purple', 'cyan', 'yellow', 'lime', 'sienna']\n",
    "\n",
    "fig, ax = plt.subplots(figsize=(20,4), facecolor='w')\n",
    "cnts, values, bars = ax.hist(valid_stock_sectors, edgecolor='k')\n",
    "\n",
    "for i, (cnt, value, bar) in enumerate(zip(cnts, values, bars)):\n",
    "    bar.set_facecolor(colors[i % len(colors)])"
   ]
  },
  {
   "cell_type": "markdown",
   "metadata": {},
   "source": [
    "**Assigning a color to each sector**"
   ]
  },
  {
   "cell_type": "code",
   "execution_count": 64,
   "metadata": {},
   "outputs": [],
   "source": [
    "available_sectors = list(set(valid_stock_sectors))\n",
    "valid_stock_sectors_colors = []\n",
    "\n",
    "for stock_sector in valid_stock_sectors:\n",
    "    valid_stock_sectors_colors.append(colors[available_sectors.index(stock_sector)])"
   ]
  },
  {
   "cell_type": "markdown",
   "metadata": {},
   "source": [
    "## Running PCA Algorithm - with only the first 4 generated features (monthly mean return, traded volume, volatility and maximum drawdown)"
   ]
  },
  {
   "cell_type": "code",
   "execution_count": 65,
   "metadata": {},
   "outputs": [],
   "source": [
    "from sklearn.decomposition import PCA"
   ]
  },
  {
   "cell_type": "code",
   "execution_count": 66,
   "metadata": {},
   "outputs": [],
   "source": [
    "pca_model_I = PCA(n_components = 4)"
   ]
  },
  {
   "cell_type": "code",
   "execution_count": 67,
   "metadata": {},
   "outputs": [],
   "source": [
    "pca_results_I = pca_model_I.fit_transform(final_features)"
   ]
  },
  {
   "cell_type": "code",
   "execution_count": 68,
   "metadata": {},
   "outputs": [
    {
     "data": {
      "text/plain": [
       "Text(0.5, 1.0, 'PCA Results - Scattering')"
      ]
     },
     "execution_count": 68,
     "metadata": {},
     "output_type": "execute_result"
    },
    {
     "data": {
      "image/png": "[encoded data removed]",
      "text/plain": [
       "<Figure size 504x504 with 1 Axes>"
      ]
     },
     "metadata": {},
     "output_type": "display_data"
    }
   ],
   "source": [
    "fig, ax = plt.subplots(figsize=(7,7), facecolor='w')\n",
    "plt.scatter(pca_results_I[:,0], pca_results_I[:,1], c = valid_stock_sectors_colors)\n",
    "plt.xlabel(\"First Principal Component\")\n",
    "plt.ylabel(\"Second Principal Component\")\n",
    "plt.title(\"PCA Results - Scattering\")"
   ]
  },
  {
   "cell_type": "code",
   "execution_count": 70,
   "metadata": {},
   "outputs": [
    {
     "name": "stdout",
     "output_type": "stream",
     "text": [
      "['Industrials', 'Communication Services', 'Healthcare', 'Technology', 'Consumer Cyclical', 'Utilities', 'Real Estate', 'Energy', 'Consumer Defensive', 'Basic Materials', 'Financial Services']\n",
      "\n",
      "\n",
      "['teal', 'red', 'gold', 'royalblue', 'darkorange', 'green', 'purple', 'cyan', 'yellow', 'lime', 'sienna']\n"
     ]
    }
   ],
   "source": [
    "print(available_sectors)  \n",
    "print(\"\\n\")\n",
    "print(colors)"
   ]
  },
  {
   "cell_type": "markdown",
   "metadata": {},
   "source": [
    "**What is the explained variance ratio by the principal components ?**"
   ]
  },
  {
   "cell_type": "code",
   "execution_count": 71,
   "metadata": {},
   "outputs": [
    {
     "data": {
      "text/plain": [
       "array([0.34516776, 0.29072743, 0.19334438, 0.17076043])"
      ]
     },
     "execution_count": 71,
     "metadata": {},
     "output_type": "execute_result"
    }
   ],
   "source": [
    "pca_model_I.explained_variance_ratio_"
   ]
  },
  {
   "cell_type": "markdown",
   "metadata": {},
   "source": [
    "## Can we enhance the industry sector clustering with more features (dividends, number of employees, market capitalization and profit margins) ?"
   ]
  },
  {
   "cell_type": "markdown",
   "metadata": {},
   "source": [
    "**Standardazing new data**"
   ]
  },
  {
   "cell_type": "code",
   "execution_count": 72,
   "metadata": {},
   "outputs": [],
   "source": [
    "valid_stock_dividends = valid_stock_dividends - np.mean(valid_stock_dividends)\n",
    "valid_stock_employees = valid_stock_employees - np.mean(valid_stock_employees)\n",
    "valid_stocks_market_cap = valid_stocks_market_cap - np.mean(valid_stocks_market_cap) \n",
    "valid_stocks_profit_margins = valid_stocks_profit_margins  - np.mean(valid_stocks_profit_margins )"
   ]
  },
  {
   "cell_type": "code",
   "execution_count": 73,
   "metadata": {},
   "outputs": [],
   "source": [
    "valid_stock_dividends = valid_stock_dividends/np.std(valid_stock_dividends)\n",
    "valid_stock_employees  = valid_stock_employees /np.std(valid_stock_employees)\n",
    "valid_stocks_market_cap = valid_stocks_market_cap/np.std(valid_stocks_market_cap)\n",
    "valid_stocks_profit_margins  = valid_stocks_profit_margins/np.std(valid_stocks_profit_margins)"
   ]
  },
  {
   "cell_type": "code",
   "execution_count": 74,
   "metadata": {},
   "outputs": [],
   "source": [
    "final_features['Dividends'] = valid_stock_dividends\n",
    "final_features['Employess'] = valid_stock_employees\n",
    "final_features['Mkt Cap'] = valid_stocks_market_cap\n",
    "final_features['Profit Margins'] = valid_stocks_profit_margins"
   ]
  },
  {
   "cell_type": "markdown",
   "metadata": {},
   "source": [
    "**Trying different combinations of features**"
   ]
  },
  {
   "cell_type": "markdown",
   "metadata": {},
   "source": [
    "**Combination I - 'Mkt Cap', 'Profit Margins'**"
   ]
  },
  {
   "cell_type": "code",
   "execution_count": 75,
   "metadata": {},
   "outputs": [],
   "source": [
    "final_features_match_I = final_features[['Mkt Cap', 'Profit Margins']]"
   ]
  },
  {
   "cell_type": "code",
   "execution_count": 76,
   "metadata": {},
   "outputs": [],
   "source": [
    "pca_model_match_I = PCA(n_components = 2)"
   ]
  },
  {
   "cell_type": "code",
   "execution_count": 77,
   "metadata": {},
   "outputs": [],
   "source": [
    "pca_results_match_I = pca_model_match_I.fit_transform(final_features_match_I)"
   ]
  },
  {
   "cell_type": "code",
   "execution_count": 85,
   "metadata": {},
   "outputs": [
    {
     "data": {
      "text/plain": [
       "Text(0.5, 1.0, 'PCA Results - Combination I - Scattering')"
      ]
     },
     "execution_count": 85,
     "metadata": {},
     "output_type": "execute_result"
    },
    {
     "data": {
      "image/png": "[encoded data removed]",
      "text/plain": [
       "<Figure size 504x504 with 1 Axes>"
      ]
     },
     "metadata": {},
     "output_type": "display_data"
    }
   ],
   "source": [
    "fig, ax = plt.subplots(figsize=(7,7), facecolor='w')\n",
    "plt.scatter(pca_results_match_I[:,0], pca_results_match_I[:,1], c = valid_stock_sectors_colors)\n",
    "plt.xlabel(\"First Principal Component\")\n",
    "plt.ylabel(\"Second Principal Component\")\n",
    "plt.title(\"PCA Results - Combination I - Scattering\")"
   ]
  },
  {
   "cell_type": "code",
   "execution_count": 86,
   "metadata": {},
   "outputs": [
    {
     "data": {
      "text/plain": [
       "array([0.55070363, 0.44929637])"
      ]
     },
     "execution_count": 86,
     "metadata": {},
     "output_type": "execute_result"
    }
   ],
   "source": [
    "pca_model_match_I.explained_variance_ratio_"
   ]
  },
  {
   "cell_type": "markdown",
   "metadata": {},
   "source": [
    "**Combination II**"
   ]
  },
  {
   "cell_type": "code",
   "execution_count": 109,
   "metadata": {},
   "outputs": [],
   "source": [
    "final_features_match_II = final_features[['Profit Margins', 'Mean Monthly Return']]"
   ]
  },
  {
   "cell_type": "code",
   "execution_count": 110,
   "metadata": {},
   "outputs": [],
   "source": [
    "pca_model_match_II = PCA(n_components = 2)"
   ]
  },
  {
   "cell_type": "code",
   "execution_count": 111,
   "metadata": {},
   "outputs": [],
   "source": [
    "pca_results_match_II = pca_model_match_II.fit_transform(final_features_match_II)"
   ]
  },
  {
   "cell_type": "code",
   "execution_count": 112,
   "metadata": {},
   "outputs": [
    {
     "data": {
      "text/plain": [
       "Text(0.5, 1.0, 'PCA Results - Combination II - Scattering')"
      ]
     },
     "execution_count": 112,
     "metadata": {},
     "output_type": "execute_result"
    },
    {
     "data": {
      "image/png": "[encoded data removed]",
      "text/plain": [
       "<Figure size 504x504 with 1 Axes>"
      ]
     },
     "metadata": {},
     "output_type": "display_data"
    }
   ],
   "source": [
    "fig, ax = plt.subplots(figsize=(7,7), facecolor='w')\n",
    "plt.scatter(pca_results_match_II[:,0], pca_results_match_II[:,1], c = valid_stock_sectors_colors)\n",
    "plt.xlabel(\"First Principal Component\")\n",
    "plt.ylabel(\"Second Principal Component\")\n",
    "plt.title(\"PCA Results - Combination II - Scattering\")"
   ]
  },
  {
   "cell_type": "code",
   "execution_count": 113,
   "metadata": {},
   "outputs": [
    {
     "data": {
      "text/plain": [
       "array([0.56052994, 0.43947006])"
      ]
     },
     "execution_count": 113,
     "metadata": {},
     "output_type": "execute_result"
    }
   ],
   "source": [
    "pca_model_match_II.explained_variance_ratio_"
   ]
  },
  {
   "cell_type": "markdown",
   "metadata": {},
   "source": [
    "## Trying PCA with all features"
   ]
  },
  {
   "cell_type": "code",
   "execution_count": 138,
   "metadata": {},
   "outputs": [],
   "source": [
    "pca_model_final = PCA(n_components = 8)"
   ]
  },
  {
   "cell_type": "code",
   "execution_count": 139,
   "metadata": {},
   "outputs": [],
   "source": [
    "pca_model_final = pca_model_final.fit(final_features)"
   ]
  },
  {
   "cell_type": "markdown",
   "metadata": {},
   "source": [
    "**Explained variance by feature**"
   ]
  },
  {
   "cell_type": "code",
   "execution_count": 144,
   "metadata": {},
   "outputs": [
    {
     "data": {
      "text/plain": [
       "array([0.22919504, 0.19636562, 0.15142457, 0.12799685, 0.09504479,\n",
       "       0.0878356 , 0.07448271, 0.03765481])"
      ]
     },
     "execution_count": 144,
     "metadata": {},
     "output_type": "execute_result"
    }
   ],
   "source": [
    "pca_model_final.explained_variance_ratio_"
   ]
  },
  {
   "cell_type": "code",
   "execution_count": 141,
   "metadata": {},
   "outputs": [],
   "source": [
    "cumulative_sum_explained_variance = np.cumsum(pca_model_final.explained_variance_ratio_)"
   ]
  },
  {
   "cell_type": "code",
   "execution_count": 142,
   "metadata": {
    "scrolled": true
   },
   "outputs": [
    {
     "data": {
      "text/plain": [
       "Text(0.5, 1.0, 'PCA Results with all features  - Total Cumulative Explained Variance')"
      ]
     },
     "execution_count": 142,
     "metadata": {},
     "output_type": "execute_result"
    },
    {
     "data": {
      "image/png": "[encoded data removed]",
      "text/plain": [
       "<Figure size 432x288 with 1 Axes>"
      ]
     },
     "metadata": {
      "needs_background": "light"
     },
     "output_type": "display_data"
    }
   ],
   "source": [
    "plt.plot(np.arange(1,9),cumulative_sum_explained_variance)\n",
    "plt.xlabel(\"Number of Principal Components\")\n",
    "plt.ylabel(\"Cumulative Explained Variance\")\n",
    "plt.title(\"PCA Results with all features  - Total Cumulative Explained Variance\")"
   ]
  },
  {
   "cell_type": "markdown",
   "metadata": {},
   "source": [
    "**Plotting data with the first two components**"
   ]
  },
  {
   "cell_type": "code",
   "execution_count": 145,
   "metadata": {},
   "outputs": [],
   "source": [
    "pca_final_components = pca_model_final.transform(final_features) "
   ]
  },
  {
   "cell_type": "code",
   "execution_count": 146,
   "metadata": {},
   "outputs": [
    {
     "data": {
      "text/plain": [
       "Text(0.5, 1.0, 'PCA Results - All Features - Scattering')"
      ]
     },
     "execution_count": 146,
     "metadata": {},
     "output_type": "execute_result"
    },
    {
     "data": {
      "image/png": "[encoded data removed]",
      "text/plain": [
       "<Figure size 504x504 with 1 Axes>"
      ]
     },
     "metadata": {},
     "output_type": "display_data"
    }
   ],
   "source": [
    "fig, ax = plt.subplots(figsize=(7,7), facecolor='w')\n",
    "plt.scatter(pca_final_components[:,0], pca_final_components[:,1], c = valid_stock_sectors_colors)\n",
    "plt.xlabel(\"First Principal Component\")\n",
    "plt.ylabel(\"Second Principal Component\")\n",
    "plt.title(\"PCA Results - All Features - Scattering\")"
   ]
  }
 ],
 "metadata": {
  "kernelspec": {
   "display_name": "Python 3",
   "language": "python",
   "name": "python3"
  },
  "language_info": {
   "codemirror_mode": {
    "name": "ipython",
    "version": 3
   },
   "file_extension": ".py",
   "mimetype": "text/x-python",
   "name": "python",
   "nbconvert_exporter": "python",
   "pygments_lexer": "ipython3",
   "version": "3.7.6"
  }
 },
 "nbformat": 4,
 "nbformat_minor": 4
}
